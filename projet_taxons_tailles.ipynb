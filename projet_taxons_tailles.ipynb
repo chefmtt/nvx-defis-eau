{
 "cells": [
  {
   "cell_type": "code",
   "execution_count": 4,
   "metadata": {
    "collapsed": true
   },
   "outputs": [],
   "source": [
    "import pandas as pd\n",
    "import numpy as np"
   ]
  },
  {
   "cell_type": "code",
   "execution_count": 5,
   "outputs": [],
   "source": [
    "taxon_df = pd.read_csv(\"données/taxon.csv\")\n",
    "taxon_denombre_df = pd.read_csv(\"données/taxon_denombre.csv\")\n",
    "liste_df = pd.read_csv(\"données/liste_faunistique_floristique.csv\")\n",
    "stations_df = pd.read_csv(\"données/station.csv\")\n",
    "physicochimie_df = pd.read_csv(\"données/physicochimie.csv\")\n",
    "alteration_df = pd.read_csv(\"données/classe_alteration_seq_eau.csv\")"
   ],
   "metadata": {
    "collapsed": false
   }
  },
  {
   "cell_type": "code",
   "execution_count": 6,
   "outputs": [
    {
     "data": {
      "text/plain": "[2, 4, 6, 11, 13, 15]"
     },
     "execution_count": 6,
     "metadata": {},
     "output_type": "execute_result"
    }
   ],
   "source": [
    "criteres_tailles = taxon_denombre_df[taxon_denombre_df[\"critere_taxon\"].str.contains(r\"(?i)longueur\")] \\\n",
    "                   [\"critere_taxon_id\"] \\\n",
    "                   .unique() \\\n",
    "                   .tolist()\n",
    "\n",
    "criteres_tailles"
   ],
   "metadata": {
    "collapsed": false
   }
  },
  {
   "cell_type": "code",
   "execution_count": 11,
   "outputs": [
    {
     "data": {
      "text/plain": "['Longueur Minimale totale exprimée en mm',\n 'Longueur Individuelle totale exprimée en mm',\n 'Longueur Maximale totale exprimée en mm',\n 'Longueur Individuelle à la fourche exprimée en mm',\n 'Longueur Minimale à la fourche exprimée en mm',\n 'Longueur Maximale à la fourche exprimée en mm']"
     },
     "execution_count": 11,
     "metadata": {},
     "output_type": "execute_result"
    }
   ],
   "source": [
    "criteres_tailles_desc = taxon_denombre_df[taxon_denombre_df[\"critere_taxon\"].str.contains(r\"(?i)longueur\")] \\\n",
    "                   [\"critere_taxon\"] \\\n",
    "                   .unique() \\\n",
    "                   .tolist()\n",
    "\n",
    "criteres_tailles_desc"
   ],
   "metadata": {
    "collapsed": false
   }
  },
  {
   "cell_type": "markdown",
   "source": [
    "Par taxons, par critère, pour une liste ff : une unique valeur"
   ],
   "metadata": {
    "collapsed": false
   }
  },
  {
   "cell_type": "code",
   "execution_count": 7,
   "outputs": [
    {
     "data": {
      "text/plain": "array([1])"
     },
     "execution_count": 7,
     "metadata": {},
     "output_type": "execute_result"
    }
   ],
   "source": [
    "length_taxons = taxon_denombre_df[taxon_denombre_df[\"critere_taxon_id\"].isin(criteres_tailles)]\n",
    "# print(length_taxons.sort_values(\"taxon_id\"))\n",
    "length_taxons\\\n",
    "    .drop(columns=[\"critere_taxon\"])\\\n",
    "    .groupby([\"taxon_id\", \"critere_taxon_id\", \"liste_ff_id\"])\\\n",
    "    .count()\\\n",
    "    [\"valeur\"]\\\n",
    "    .unique()"
   ],
   "metadata": {
    "collapsed": false
   }
  },
  {
   "cell_type": "code",
   "execution_count": 8,
   "outputs": [
    {
     "data": {
      "text/plain": "         liste_ff_id  taxon_id  valeur  \\\n2            3663043      2080    60.0   \n9            3671035      2080    32.0   \n32           3671035      2221    40.0   \n50           3663043      2221    53.0   \n58           3671035      2080    87.0   \n...              ...       ...     ...   \n1569172      3676992      2071    86.0   \n1569183      3647224      2131    25.0   \n1569185      3666127      2104    71.0   \n1569189      3676992      2096   258.0   \n1569193      3644508      2129    56.0   \n\n                                       critere_taxon  critere_taxon_id  \n2            Longueur Minimale totale exprimée en mm                 2  \n9        Longueur Individuelle totale exprimée en mm                 4  \n32       Longueur Individuelle totale exprimée en mm                 4  \n50       Longueur Individuelle totale exprimée en mm                 4  \n58           Longueur Maximale totale exprimée en mm                 6  \n...                                              ...               ...  \n1569172      Longueur Maximale totale exprimée en mm                 6  \n1569183      Longueur Minimale totale exprimée en mm                 2  \n1569185  Longueur Individuelle totale exprimée en mm                 4  \n1569189  Longueur Individuelle totale exprimée en mm                 4  \n1569193      Longueur Maximale totale exprimée en mm                 6  \n\n[90552 rows x 5 columns]",
      "text/html": "<div>\n<style scoped>\n    .dataframe tbody tr th:only-of-type {\n        vertical-align: middle;\n    }\n\n    .dataframe tbody tr th {\n        vertical-align: top;\n    }\n\n    .dataframe thead th {\n        text-align: right;\n    }\n</style>\n<table border=\"1\" class=\"dataframe\">\n  <thead>\n    <tr style=\"text-align: right;\">\n      <th></th>\n      <th>liste_ff_id</th>\n      <th>taxon_id</th>\n      <th>valeur</th>\n      <th>critere_taxon</th>\n      <th>critere_taxon_id</th>\n    </tr>\n  </thead>\n  <tbody>\n    <tr>\n      <th>2</th>\n      <td>3663043</td>\n      <td>2080</td>\n      <td>60.0</td>\n      <td>Longueur Minimale totale exprimée en mm</td>\n      <td>2</td>\n    </tr>\n    <tr>\n      <th>9</th>\n      <td>3671035</td>\n      <td>2080</td>\n      <td>32.0</td>\n      <td>Longueur Individuelle totale exprimée en mm</td>\n      <td>4</td>\n    </tr>\n    <tr>\n      <th>32</th>\n      <td>3671035</td>\n      <td>2221</td>\n      <td>40.0</td>\n      <td>Longueur Individuelle totale exprimée en mm</td>\n      <td>4</td>\n    </tr>\n    <tr>\n      <th>50</th>\n      <td>3663043</td>\n      <td>2221</td>\n      <td>53.0</td>\n      <td>Longueur Individuelle totale exprimée en mm</td>\n      <td>4</td>\n    </tr>\n    <tr>\n      <th>58</th>\n      <td>3671035</td>\n      <td>2080</td>\n      <td>87.0</td>\n      <td>Longueur Maximale totale exprimée en mm</td>\n      <td>6</td>\n    </tr>\n    <tr>\n      <th>...</th>\n      <td>...</td>\n      <td>...</td>\n      <td>...</td>\n      <td>...</td>\n      <td>...</td>\n    </tr>\n    <tr>\n      <th>1569172</th>\n      <td>3676992</td>\n      <td>2071</td>\n      <td>86.0</td>\n      <td>Longueur Maximale totale exprimée en mm</td>\n      <td>6</td>\n    </tr>\n    <tr>\n      <th>1569183</th>\n      <td>3647224</td>\n      <td>2131</td>\n      <td>25.0</td>\n      <td>Longueur Minimale totale exprimée en mm</td>\n      <td>2</td>\n    </tr>\n    <tr>\n      <th>1569185</th>\n      <td>3666127</td>\n      <td>2104</td>\n      <td>71.0</td>\n      <td>Longueur Individuelle totale exprimée en mm</td>\n      <td>4</td>\n    </tr>\n    <tr>\n      <th>1569189</th>\n      <td>3676992</td>\n      <td>2096</td>\n      <td>258.0</td>\n      <td>Longueur Individuelle totale exprimée en mm</td>\n      <td>4</td>\n    </tr>\n    <tr>\n      <th>1569193</th>\n      <td>3644508</td>\n      <td>2129</td>\n      <td>56.0</td>\n      <td>Longueur Maximale totale exprimée en mm</td>\n      <td>6</td>\n    </tr>\n  </tbody>\n</table>\n<p>90552 rows × 5 columns</p>\n</div>"
     },
     "execution_count": 8,
     "metadata": {},
     "output_type": "execute_result"
    }
   ],
   "source": [
    "length_taxons"
   ],
   "metadata": {
    "collapsed": false
   }
  },
  {
   "cell_type": "markdown",
   "source": [
    "On garde que les critères de chaque taxons pour lesquelles on a assez de valeurs pour étudier l'évolution"
   ],
   "metadata": {
    "collapsed": false
   }
  },
  {
   "cell_type": "code",
   "execution_count": 9,
   "outputs": [
    {
     "data": {
      "text/plain": "taxon_id  critere_taxon_id\n868       4                     91\n871       4                   1561\n873       4                    551\n2010      4                    137\n2012      2                    106\n                              ... \n31041     11                  1454\n          13                   313\n          15                   313\n31135     4                    328\n          11                   131\nName: liste_ff_id, Length: 153, dtype: int64"
     },
     "execution_count": 9,
     "metadata": {},
     "output_type": "execute_result"
    }
   ],
   "source": [
    "a = length_taxons\\\n",
    "    .drop(columns=[\"critere_taxon\"])\\\n",
    "    .groupby([\"taxon_id\", \"critere_taxon_id\"])\\\n",
    "    [\"liste_ff_id\"]\\\n",
    "    .count()\n",
    "\n",
    "a[a > 50]"
   ],
   "metadata": {
    "collapsed": false
   }
  }
 ],
 "metadata": {
  "kernelspec": {
   "display_name": "Python 3",
   "language": "python",
   "name": "python3"
  },
  "language_info": {
   "codemirror_mode": {
    "name": "ipython",
    "version": 2
   },
   "file_extension": ".py",
   "mimetype": "text/x-python",
   "name": "python",
   "nbconvert_exporter": "python",
   "pygments_lexer": "ipython2",
   "version": "2.7.6"
  }
 },
 "nbformat": 4,
 "nbformat_minor": 0
}
