{
 "cells": [
  {
   "cell_type": "code",
   "execution_count": 3,
   "metadata": {
    "collapsed": true
   },
   "outputs": [],
   "source": [
    "import pandas as pd\n",
    "import numpy as np"
   ]
  },
  {
   "cell_type": "code",
   "execution_count": 38,
   "outputs": [],
   "source": [
    "taxon_df = pd.read_csv(\"données/taxon.csv\")\n",
    "taxon_denombre_df = pd.read_csv(\"données/taxon_denombre.csv\")\n",
    "liste_df = pd.read_csv(\"données/liste_faunistique_floristique.csv\")\n",
    "stations_df = pd.read_csv(\"données/station.csv\")\n",
    "physicochimie_df = pd.read_csv(\"données/physicochimie.csv\")\n",
    "alteration_df = pd.read_csv(\"données/classe_alteration_seq_eau.csv\")"
   ],
   "metadata": {
    "collapsed": false
   }
  },
  {
   "cell_type": "code",
   "execution_count": 5,
   "outputs": [
    {
     "data": {
      "text/plain": "        stn_id  date_year     valeur  parameter  \\\n0       398944       2007  10.825000       1301   \n90      398944       2012   5.333333       1348   \n89      398944       2011   4.991667       1348   \n88      398944       2010   5.357200       1348   \n87      398944       2009   4.991667       1348   \n...        ...        ...        ...        ...   \n187356  421014       2007  97.333333       1312   \n187355  421014       2012  10.766667       1311   \n187354  421014       2011  10.566667       1311   \n187367  421014       2012   0.733333       1313   \n187441  421014       2012   5.650000       1375   \n\n                                           parameter_name  unite  \\\n0                                    Température de l'Eau     27   \n90                                                 Silice    162   \n89                                                 Silice    162   \n88                                                 Silice    162   \n87                                                 Silice    162   \n...                                                   ...    ...   \n187356                      Taux de saturation en oxygène    243   \n187355                                    Oxygène dissous    175   \n187354                                    Oxygène dissous    175   \n187367  Demande Biochimique en oxygène en 5 jours (D.B...    175   \n187441                                             Sodium    162   \n\n                             unite_name  \n0                         degré Celsius  \n90                milligramme par litre  \n89                milligramme par litre  \n88                milligramme par litre  \n87                milligramme par litre  \n...                                 ...  \n187356                      pourcentage  \n187355  milligramme d'oxygène par litre  \n187354  milligramme d'oxygène par litre  \n187367  milligramme d'oxygène par litre  \n187441            milligramme par litre  \n\n[187442 rows x 7 columns]",
      "text/html": "<div>\n<style scoped>\n    .dataframe tbody tr th:only-of-type {\n        vertical-align: middle;\n    }\n\n    .dataframe tbody tr th {\n        vertical-align: top;\n    }\n\n    .dataframe thead th {\n        text-align: right;\n    }\n</style>\n<table border=\"1\" class=\"dataframe\">\n  <thead>\n    <tr style=\"text-align: right;\">\n      <th></th>\n      <th>stn_id</th>\n      <th>date_year</th>\n      <th>valeur</th>\n      <th>parameter</th>\n      <th>parameter_name</th>\n      <th>unite</th>\n      <th>unite_name</th>\n    </tr>\n  </thead>\n  <tbody>\n    <tr>\n      <th>0</th>\n      <td>398944</td>\n      <td>2007</td>\n      <td>10.825000</td>\n      <td>1301</td>\n      <td>Température de l'Eau</td>\n      <td>27</td>\n      <td>degré Celsius</td>\n    </tr>\n    <tr>\n      <th>90</th>\n      <td>398944</td>\n      <td>2012</td>\n      <td>5.333333</td>\n      <td>1348</td>\n      <td>Silice</td>\n      <td>162</td>\n      <td>milligramme par litre</td>\n    </tr>\n    <tr>\n      <th>89</th>\n      <td>398944</td>\n      <td>2011</td>\n      <td>4.991667</td>\n      <td>1348</td>\n      <td>Silice</td>\n      <td>162</td>\n      <td>milligramme par litre</td>\n    </tr>\n    <tr>\n      <th>88</th>\n      <td>398944</td>\n      <td>2010</td>\n      <td>5.357200</td>\n      <td>1348</td>\n      <td>Silice</td>\n      <td>162</td>\n      <td>milligramme par litre</td>\n    </tr>\n    <tr>\n      <th>87</th>\n      <td>398944</td>\n      <td>2009</td>\n      <td>4.991667</td>\n      <td>1348</td>\n      <td>Silice</td>\n      <td>162</td>\n      <td>milligramme par litre</td>\n    </tr>\n    <tr>\n      <th>...</th>\n      <td>...</td>\n      <td>...</td>\n      <td>...</td>\n      <td>...</td>\n      <td>...</td>\n      <td>...</td>\n      <td>...</td>\n    </tr>\n    <tr>\n      <th>187356</th>\n      <td>421014</td>\n      <td>2007</td>\n      <td>97.333333</td>\n      <td>1312</td>\n      <td>Taux de saturation en oxygène</td>\n      <td>243</td>\n      <td>pourcentage</td>\n    </tr>\n    <tr>\n      <th>187355</th>\n      <td>421014</td>\n      <td>2012</td>\n      <td>10.766667</td>\n      <td>1311</td>\n      <td>Oxygène dissous</td>\n      <td>175</td>\n      <td>milligramme d'oxygène par litre</td>\n    </tr>\n    <tr>\n      <th>187354</th>\n      <td>421014</td>\n      <td>2011</td>\n      <td>10.566667</td>\n      <td>1311</td>\n      <td>Oxygène dissous</td>\n      <td>175</td>\n      <td>milligramme d'oxygène par litre</td>\n    </tr>\n    <tr>\n      <th>187367</th>\n      <td>421014</td>\n      <td>2012</td>\n      <td>0.733333</td>\n      <td>1313</td>\n      <td>Demande Biochimique en oxygène en 5 jours (D.B...</td>\n      <td>175</td>\n      <td>milligramme d'oxygène par litre</td>\n    </tr>\n    <tr>\n      <th>187441</th>\n      <td>421014</td>\n      <td>2012</td>\n      <td>5.650000</td>\n      <td>1375</td>\n      <td>Sodium</td>\n      <td>162</td>\n      <td>milligramme par litre</td>\n    </tr>\n  </tbody>\n</table>\n<p>187442 rows × 7 columns</p>\n</div>"
     },
     "execution_count": 5,
     "metadata": {},
     "output_type": "execute_result"
    }
   ],
   "source": [
    "physicochimie_df.sort_values(\"stn_id\")"
   ],
   "metadata": {
    "collapsed": false
   }
  },
  {
   "cell_type": "markdown",
   "source": [
    "On récupère la liste complète des paramètres mesurés sur au moins un taxon"
   ],
   "metadata": {
    "collapsed": false
   }
  },
  {
   "cell_type": "code",
   "execution_count": 6,
   "outputs": [
    {
     "data": {
      "text/plain": "[\"Nombre exact d'individus\",\n 'Longueur Minimale totale exprimée en mm',\n 'Poids individuel exprimé en g',\n 'Longueur Individuelle totale exprimée en mm',\n \"Poids total de l'ensemble des individus appartenant à un même taxon exprimé en g (issu de caluls d'estimation ou de mesures précises)\",\n 'Longueur Maximale totale exprimée en mm',\n 'Abondance Relative (%)',\n \"Poids individuel exprimé en g à partir d'une estimation réalisée sur d'autres points de contrôle de la DR\",\n \"Poids total de l'ensemble des individus appartenant à un même taxon exprimé en g à partir d'une estimation réalisée sur d'autres points de contrôle de la DR\",\n \"Poids individuel exprimé en g partir d'un autre cas\",\n 'Longueur Individuelle à la fourche exprimée en mm',\n \"Poids individuel exprimé en g dont la méthode d'estimation n'est pas déterminée\",\n 'Longueur Minimale à la fourche exprimée en mm',\n \"Poids total de l'ensemble des individus appartenant à un même taxon exprimé en g dont la méthode d'estimation n'est pas déterminée\",\n 'Longueur Maximale à la fourche exprimée en mm',\n \"Poids total de l'ensemble des individus appartenant à un même taxon exprimé en g à partir d'autres cas\",\n \"Poids individuel exprimé en g à partir d'une estimation réalisée sur d'autres points de contrôle du même département\",\n \"Poids total de l'ensemble des individus appartenant à un même taxon exprimé en g à partir d'une estimation réalisée sur d'autres points de contrôle du même département\"]"
     },
     "execution_count": 6,
     "metadata": {},
     "output_type": "execute_result"
    }
   ],
   "source": [
    "taxon_denombre_df[\"critere_taxon\"].unique().tolist()"
   ],
   "metadata": {
    "collapsed": false
   }
  },
  {
   "cell_type": "markdown",
   "source": [
    "On s'intéresse à l'évolution du nombre d'individus, on isole ainsi les lignes s'intéressant à cette propriété"
   ],
   "metadata": {
    "collapsed": false
   }
  },
  {
   "cell_type": "code",
   "execution_count": 7,
   "outputs": [
    {
     "data": {
      "text/plain": "[1]"
     },
     "execution_count": 7,
     "metadata": {},
     "output_type": "execute_result"
    }
   ],
   "source": [
    "critere_nombre_individus = taxon_denombre_df[taxon_denombre_df[\"critere_taxon\"] == \"Nombre exact d'individus\"]\\\n",
    "    [\"critere_taxon_id\"]\\\n",
    "    .unique()\\\n",
    "    .tolist()\n",
    "critere_nombre_individus"
   ],
   "metadata": {
    "collapsed": false
   }
  },
  {
   "cell_type": "markdown",
   "source": [
    "On vérifie la cohérence entre l'id du critère et sa description (l'autre sens a déjà été vérifié par la selection précédente)"
   ],
   "metadata": {
    "collapsed": false
   }
  },
  {
   "cell_type": "code",
   "execution_count": 8,
   "outputs": [
    {
     "data": {
      "text/plain": "array([\"Nombre exact d'individus\"], dtype=object)"
     },
     "execution_count": 8,
     "metadata": {},
     "output_type": "execute_result"
    }
   ],
   "source": [
    "df = taxon_denombre_df[taxon_denombre_df[\"critere_taxon_id\"].isin(critere_nombre_individus)]\n",
    "df[\"critere_taxon\"].unique()"
   ],
   "metadata": {
    "collapsed": false
   }
  },
  {
   "cell_type": "markdown",
   "source": [
    "On ne s'intéresse qu'à un unique critère. On a vérifié la cohérence de notre séléction : les colonnes propres aux critères sont inutiles\n",
    "\n",
    "Ensuite, on remarque qu'une seule mesure est bien effectuée par taxon par liste ff"
   ],
   "metadata": {
    "collapsed": false
   }
  },
  {
   "cell_type": "code",
   "execution_count": 9,
   "outputs": [
    {
     "data": {
      "text/plain": "array([1])"
     },
     "execution_count": 9,
     "metadata": {},
     "output_type": "execute_result"
    }
   ],
   "source": [
    "individus_taxons = df.drop(columns=[\"critere_taxon\", \"critere_taxon_id\"])\n",
    "\n",
    "individus_taxons\\\n",
    "    .groupby([\"taxon_id\", 'liste_ff_id'])\\\n",
    "    .count()\\\n",
    "    [\"valeur\"]\\\n",
    "    .unique()"
   ],
   "metadata": {
    "collapsed": false
   }
  },
  {
   "cell_type": "markdown",
   "source": [],
   "metadata": {
    "collapsed": false
   }
  },
  {
   "cell_type": "code",
   "execution_count": 10,
   "outputs": [
    {
     "data": {
      "text/plain": "[212, 364, 807, 906, 933]"
     },
     "execution_count": 10,
     "metadata": {},
     "output_type": "execute_result"
    }
   ],
   "source": [
    "mesure_par_taxon = individus_taxons\\\n",
    "    .drop(columns=[\"valeur\"])\\\n",
    "    .groupby([\"taxon_id\"])\\\n",
    "    .count()\\\n",
    "    [\"liste_ff_id\"]\n",
    "\n",
    "taxons_to_keep = mesure_par_taxon[mesure_par_taxon > 21000]\\\n",
    "    .index\\\n",
    "    .tolist()\n",
    "taxons_to_keep"
   ],
   "metadata": {
    "collapsed": false
   }
  },
  {
   "cell_type": "code",
   "execution_count": 34,
   "outputs": [
    {
     "data": {
      "text/plain": "         liste_ff_id  taxon_id  valeur\n3            3551258       906   120.0\n12           3551264       807    20.0\n16           3551362       933     8.0\n23           3551360       212     3.0\n26           3551363       807    35.0\n...              ...       ...     ...\n1569103      3625796       807    13.0\n1569104      3625797       364    70.0\n1569112      3625795       364    47.0\n1569127      3625797       212     4.0\n1569151      3626765       212     1.0\n\n[131890 rows x 3 columns]",
      "text/html": "<div>\n<style scoped>\n    .dataframe tbody tr th:only-of-type {\n        vertical-align: middle;\n    }\n\n    .dataframe tbody tr th {\n        vertical-align: top;\n    }\n\n    .dataframe thead th {\n        text-align: right;\n    }\n</style>\n<table border=\"1\" class=\"dataframe\">\n  <thead>\n    <tr style=\"text-align: right;\">\n      <th></th>\n      <th>liste_ff_id</th>\n      <th>taxon_id</th>\n      <th>valeur</th>\n    </tr>\n  </thead>\n  <tbody>\n    <tr>\n      <th>3</th>\n      <td>3551258</td>\n      <td>906</td>\n      <td>120.0</td>\n    </tr>\n    <tr>\n      <th>12</th>\n      <td>3551264</td>\n      <td>807</td>\n      <td>20.0</td>\n    </tr>\n    <tr>\n      <th>16</th>\n      <td>3551362</td>\n      <td>933</td>\n      <td>8.0</td>\n    </tr>\n    <tr>\n      <th>23</th>\n      <td>3551360</td>\n      <td>212</td>\n      <td>3.0</td>\n    </tr>\n    <tr>\n      <th>26</th>\n      <td>3551363</td>\n      <td>807</td>\n      <td>35.0</td>\n    </tr>\n    <tr>\n      <th>...</th>\n      <td>...</td>\n      <td>...</td>\n      <td>...</td>\n    </tr>\n    <tr>\n      <th>1569103</th>\n      <td>3625796</td>\n      <td>807</td>\n      <td>13.0</td>\n    </tr>\n    <tr>\n      <th>1569104</th>\n      <td>3625797</td>\n      <td>364</td>\n      <td>70.0</td>\n    </tr>\n    <tr>\n      <th>1569112</th>\n      <td>3625795</td>\n      <td>364</td>\n      <td>47.0</td>\n    </tr>\n    <tr>\n      <th>1569127</th>\n      <td>3625797</td>\n      <td>212</td>\n      <td>4.0</td>\n    </tr>\n    <tr>\n      <th>1569151</th>\n      <td>3626765</td>\n      <td>212</td>\n      <td>1.0</td>\n    </tr>\n  </tbody>\n</table>\n<p>131890 rows × 3 columns</p>\n</div>"
     },
     "execution_count": 34,
     "metadata": {},
     "output_type": "execute_result"
    }
   ],
   "source": [
    "test_indiv = individus_taxons[individus_taxons[\"taxon_id\"].isin(taxons_to_keep)]\n",
    "test_indiv"
   ],
   "metadata": {
    "collapsed": false
   }
  },
  {
   "cell_type": "code",
   "execution_count": 12,
   "outputs": [
    {
     "data": {
      "text/plain": "           id  date_year                date_prel  \\\n0      398943       2010  2010-08-11 00:00:00.000   \n1      398943       2013  2013-07-23 00:00:00.000   \n2      398944       2007  2007-08-29 00:00:00.000   \n3      398944       2007  2007-08-29 00:00:00.000   \n4      398944       2009  2009-09-28 00:00:00.000   \n...       ...        ...                      ...   \n55687  421014       2013  2013-06-27 00:00:00.000   \n55688  421014       2010  2010-06-09 00:00:00.000   \n55689  421014       2012  2012-06-21 00:00:00.000   \n55690  421014       2010  2010-06-09 00:00:00.000   \n55691  421014       2008  2008-05-30 00:00:00.000   \n\n       liste_faunistique_floristique  facies_substrat    facies_vitesse  \\\n0                            3541596  Pierres, galets  Vitesse < 5 cm/s   \n1                            3545195   Roches, dalles  Vitesse < 5 cm/s   \n2                            3525909              NaN               NaN   \n3                            3525910              NaN               NaN   \n4                            3527276              NaN               NaN   \n...                              ...              ...               ...   \n55687                        3627210              NaN               NaN   \n55688                        3637746              NaN               NaN   \n55689                        3655503              NaN               NaN   \n55690                        3664704              NaN               NaN   \n55691                        3672844              NaN               NaN   \n\n      facies_profondeur  \n0                   NaN  \n1                   NaN  \n2                   NaN  \n3                   NaN  \n4                   NaN  \n...                 ...  \n55687               NaN  \n55688               NaN  \n55689               NaN  \n55690               NaN  \n55691               NaN  \n\n[55692 rows x 7 columns]",
      "text/html": "<div>\n<style scoped>\n    .dataframe tbody tr th:only-of-type {\n        vertical-align: middle;\n    }\n\n    .dataframe tbody tr th {\n        vertical-align: top;\n    }\n\n    .dataframe thead th {\n        text-align: right;\n    }\n</style>\n<table border=\"1\" class=\"dataframe\">\n  <thead>\n    <tr style=\"text-align: right;\">\n      <th></th>\n      <th>id</th>\n      <th>date_year</th>\n      <th>date_prel</th>\n      <th>liste_faunistique_floristique</th>\n      <th>facies_substrat</th>\n      <th>facies_vitesse</th>\n      <th>facies_profondeur</th>\n    </tr>\n  </thead>\n  <tbody>\n    <tr>\n      <th>0</th>\n      <td>398943</td>\n      <td>2010</td>\n      <td>2010-08-11 00:00:00.000</td>\n      <td>3541596</td>\n      <td>Pierres, galets</td>\n      <td>Vitesse &lt; 5 cm/s</td>\n      <td>NaN</td>\n    </tr>\n    <tr>\n      <th>1</th>\n      <td>398943</td>\n      <td>2013</td>\n      <td>2013-07-23 00:00:00.000</td>\n      <td>3545195</td>\n      <td>Roches, dalles</td>\n      <td>Vitesse &lt; 5 cm/s</td>\n      <td>NaN</td>\n    </tr>\n    <tr>\n      <th>2</th>\n      <td>398944</td>\n      <td>2007</td>\n      <td>2007-08-29 00:00:00.000</td>\n      <td>3525909</td>\n      <td>NaN</td>\n      <td>NaN</td>\n      <td>NaN</td>\n    </tr>\n    <tr>\n      <th>3</th>\n      <td>398944</td>\n      <td>2007</td>\n      <td>2007-08-29 00:00:00.000</td>\n      <td>3525910</td>\n      <td>NaN</td>\n      <td>NaN</td>\n      <td>NaN</td>\n    </tr>\n    <tr>\n      <th>4</th>\n      <td>398944</td>\n      <td>2009</td>\n      <td>2009-09-28 00:00:00.000</td>\n      <td>3527276</td>\n      <td>NaN</td>\n      <td>NaN</td>\n      <td>NaN</td>\n    </tr>\n    <tr>\n      <th>...</th>\n      <td>...</td>\n      <td>...</td>\n      <td>...</td>\n      <td>...</td>\n      <td>...</td>\n      <td>...</td>\n      <td>...</td>\n    </tr>\n    <tr>\n      <th>55687</th>\n      <td>421014</td>\n      <td>2013</td>\n      <td>2013-06-27 00:00:00.000</td>\n      <td>3627210</td>\n      <td>NaN</td>\n      <td>NaN</td>\n      <td>NaN</td>\n    </tr>\n    <tr>\n      <th>55688</th>\n      <td>421014</td>\n      <td>2010</td>\n      <td>2010-06-09 00:00:00.000</td>\n      <td>3637746</td>\n      <td>NaN</td>\n      <td>NaN</td>\n      <td>NaN</td>\n    </tr>\n    <tr>\n      <th>55689</th>\n      <td>421014</td>\n      <td>2012</td>\n      <td>2012-06-21 00:00:00.000</td>\n      <td>3655503</td>\n      <td>NaN</td>\n      <td>NaN</td>\n      <td>NaN</td>\n    </tr>\n    <tr>\n      <th>55690</th>\n      <td>421014</td>\n      <td>2010</td>\n      <td>2010-06-09 00:00:00.000</td>\n      <td>3664704</td>\n      <td>NaN</td>\n      <td>NaN</td>\n      <td>NaN</td>\n    </tr>\n    <tr>\n      <th>55691</th>\n      <td>421014</td>\n      <td>2008</td>\n      <td>2008-05-30 00:00:00.000</td>\n      <td>3672844</td>\n      <td>NaN</td>\n      <td>NaN</td>\n      <td>NaN</td>\n    </tr>\n  </tbody>\n</table>\n<p>55692 rows × 7 columns</p>\n</div>"
     },
     "execution_count": 12,
     "metadata": {},
     "output_type": "execute_result"
    }
   ],
   "source": [
    "liste_df"
   ],
   "metadata": {
    "collapsed": false
   }
  },
  {
   "cell_type": "code",
   "execution_count": 36,
   "outputs": [
    {
     "data": {
      "text/plain": "            id  her  date_year  liste_ff_id  taxon_id  valeur\n1       398944   22       2007      3551258       212    50.0\n59      398944   22       2007      3551260       212   115.0\n92      398944   22       2007      3551261       212    17.0\n127     398944   22       2007      3551262       212     7.0\n185     398944   22       2007      3551264       212    13.0\n...        ...  ...        ...          ...       ...     ...\n616865  410057   10       2013      3636540       933   380.0\n616899  410057   10       2013      3636541       933   183.0\n619050  410172    9       2013      3636575       933     5.0\n619085  410172    9       2013      3636576       933    15.0\n619116  410172    9       2013      3636577       933    57.0\n\n[131364 rows x 6 columns]",
      "text/html": "<div>\n<style scoped>\n    .dataframe tbody tr th:only-of-type {\n        vertical-align: middle;\n    }\n\n    .dataframe tbody tr th {\n        vertical-align: top;\n    }\n\n    .dataframe thead th {\n        text-align: right;\n    }\n</style>\n<table border=\"1\" class=\"dataframe\">\n  <thead>\n    <tr style=\"text-align: right;\">\n      <th></th>\n      <th>id</th>\n      <th>her</th>\n      <th>date_year</th>\n      <th>liste_ff_id</th>\n      <th>taxon_id</th>\n      <th>valeur</th>\n    </tr>\n  </thead>\n  <tbody>\n    <tr>\n      <th>1</th>\n      <td>398944</td>\n      <td>22</td>\n      <td>2007</td>\n      <td>3551258</td>\n      <td>212</td>\n      <td>50.0</td>\n    </tr>\n    <tr>\n      <th>59</th>\n      <td>398944</td>\n      <td>22</td>\n      <td>2007</td>\n      <td>3551260</td>\n      <td>212</td>\n      <td>115.0</td>\n    </tr>\n    <tr>\n      <th>92</th>\n      <td>398944</td>\n      <td>22</td>\n      <td>2007</td>\n      <td>3551261</td>\n      <td>212</td>\n      <td>17.0</td>\n    </tr>\n    <tr>\n      <th>127</th>\n      <td>398944</td>\n      <td>22</td>\n      <td>2007</td>\n      <td>3551262</td>\n      <td>212</td>\n      <td>7.0</td>\n    </tr>\n    <tr>\n      <th>185</th>\n      <td>398944</td>\n      <td>22</td>\n      <td>2007</td>\n      <td>3551264</td>\n      <td>212</td>\n      <td>13.0</td>\n    </tr>\n    <tr>\n      <th>...</th>\n      <td>...</td>\n      <td>...</td>\n      <td>...</td>\n      <td>...</td>\n      <td>...</td>\n      <td>...</td>\n    </tr>\n    <tr>\n      <th>616865</th>\n      <td>410057</td>\n      <td>10</td>\n      <td>2013</td>\n      <td>3636540</td>\n      <td>933</td>\n      <td>380.0</td>\n    </tr>\n    <tr>\n      <th>616899</th>\n      <td>410057</td>\n      <td>10</td>\n      <td>2013</td>\n      <td>3636541</td>\n      <td>933</td>\n      <td>183.0</td>\n    </tr>\n    <tr>\n      <th>619050</th>\n      <td>410172</td>\n      <td>9</td>\n      <td>2013</td>\n      <td>3636575</td>\n      <td>933</td>\n      <td>5.0</td>\n    </tr>\n    <tr>\n      <th>619085</th>\n      <td>410172</td>\n      <td>9</td>\n      <td>2013</td>\n      <td>3636576</td>\n      <td>933</td>\n      <td>15.0</td>\n    </tr>\n    <tr>\n      <th>619116</th>\n      <td>410172</td>\n      <td>9</td>\n      <td>2013</td>\n      <td>3636577</td>\n      <td>933</td>\n      <td>57.0</td>\n    </tr>\n  </tbody>\n</table>\n<p>131364 rows × 6 columns</p>\n</div>"
     },
     "execution_count": 36,
     "metadata": {},
     "output_type": "execute_result"
    }
   ],
   "source": [
    "liste_df_to_merge = liste_df.drop(columns=[\"date_prel\", \"facies_vitesse\", \"facies_profondeur\", \"facies_substrat\"])\n",
    "stn_lf = stations_df\\\n",
    "    .drop(columns=[\"nom_masse_eau\", \"st_y\", \"st_x\", \"date_year\"])\\\n",
    "    .merge(liste_df_to_merge, left_on='id', right_on='id')\n",
    "stn_taxon = stn_lf.merge(test_indiv, left_on='liste_faunistique_floristique', right_on='liste_ff_id').drop(columns=[\"liste_faunistique_floristique\"])\n",
    "stn_taxon.drop_duplicates(inplace=True)\n",
    "stn_taxon.sort_values([\"taxon_id\", \"liste_ff_id\"])"
   ],
   "metadata": {
    "collapsed": false
   }
  },
  {
   "cell_type": "markdown",
   "source": [
    "A vérifier, mais 1 relevé par stations par années"
   ],
   "metadata": {
    "collapsed": false
   }
  },
  {
   "cell_type": "code",
   "execution_count": 45,
   "outputs": [
    {
     "data": {
      "text/plain": "        stn_id  date_year     valeur  parameter  \\\n52      398944       2007   0.064167       1335   \n111     398944       2007  94.350000       1374   \n29      398944       2007   2.133333       1313   \n35      398944       2007  23.583333       1314   \n70      398944       2007  27.400000       1345   \n...        ...        ...        ...        ...   \n187441  421014       2012   5.650000       1375   \n187361  421014       2012  98.000000       1312   \n187331  421014       2012   9.533333       1301   \n187402  421014       2012   0.000000       1346   \n187408  421014       2012  23.400000       1347   \n\n                                           parameter_name  unite  \\\n52                                               Ammonium    162   \n111                                               Calcium    162   \n29      Demande Biochimique en oxygène en 5 jours (D.B...    175   \n35                   Demande Chimique en Oxygène (D.C.O.)    175   \n70                                          Dureté totale     28   \n...                                                   ...    ...   \n187441                                             Sodium    162   \n187361                      Taux de saturation en oxygène    243   \n187331                               Température de l'Eau     27   \n187402                        Titre alcalimétrique (T.A.)     28   \n187408              Titre alcalimétrique complet (T.A.C.)     28   \n\n                             unite_name  \n52                milligramme par litre  \n111               milligramme par litre  \n29      milligramme d'oxygène par litre  \n35      milligramme d'oxygène par litre  \n70                       degré français  \n...                                 ...  \n187441            milligramme par litre  \n187361                      pourcentage  \n187331                    degré Celsius  \n187402                   degré français  \n187408                   degré français  \n\n[187442 rows x 7 columns]",
      "text/html": "<div>\n<style scoped>\n    .dataframe tbody tr th:only-of-type {\n        vertical-align: middle;\n    }\n\n    .dataframe tbody tr th {\n        vertical-align: top;\n    }\n\n    .dataframe thead th {\n        text-align: right;\n    }\n</style>\n<table border=\"1\" class=\"dataframe\">\n  <thead>\n    <tr style=\"text-align: right;\">\n      <th></th>\n      <th>stn_id</th>\n      <th>date_year</th>\n      <th>valeur</th>\n      <th>parameter</th>\n      <th>parameter_name</th>\n      <th>unite</th>\n      <th>unite_name</th>\n    </tr>\n  </thead>\n  <tbody>\n    <tr>\n      <th>52</th>\n      <td>398944</td>\n      <td>2007</td>\n      <td>0.064167</td>\n      <td>1335</td>\n      <td>Ammonium</td>\n      <td>162</td>\n      <td>milligramme par litre</td>\n    </tr>\n    <tr>\n      <th>111</th>\n      <td>398944</td>\n      <td>2007</td>\n      <td>94.350000</td>\n      <td>1374</td>\n      <td>Calcium</td>\n      <td>162</td>\n      <td>milligramme par litre</td>\n    </tr>\n    <tr>\n      <th>29</th>\n      <td>398944</td>\n      <td>2007</td>\n      <td>2.133333</td>\n      <td>1313</td>\n      <td>Demande Biochimique en oxygène en 5 jours (D.B...</td>\n      <td>175</td>\n      <td>milligramme d'oxygène par litre</td>\n    </tr>\n    <tr>\n      <th>35</th>\n      <td>398944</td>\n      <td>2007</td>\n      <td>23.583333</td>\n      <td>1314</td>\n      <td>Demande Chimique en Oxygène (D.C.O.)</td>\n      <td>175</td>\n      <td>milligramme d'oxygène par litre</td>\n    </tr>\n    <tr>\n      <th>70</th>\n      <td>398944</td>\n      <td>2007</td>\n      <td>27.400000</td>\n      <td>1345</td>\n      <td>Dureté totale</td>\n      <td>28</td>\n      <td>degré français</td>\n    </tr>\n    <tr>\n      <th>...</th>\n      <td>...</td>\n      <td>...</td>\n      <td>...</td>\n      <td>...</td>\n      <td>...</td>\n      <td>...</td>\n      <td>...</td>\n    </tr>\n    <tr>\n      <th>187441</th>\n      <td>421014</td>\n      <td>2012</td>\n      <td>5.650000</td>\n      <td>1375</td>\n      <td>Sodium</td>\n      <td>162</td>\n      <td>milligramme par litre</td>\n    </tr>\n    <tr>\n      <th>187361</th>\n      <td>421014</td>\n      <td>2012</td>\n      <td>98.000000</td>\n      <td>1312</td>\n      <td>Taux de saturation en oxygène</td>\n      <td>243</td>\n      <td>pourcentage</td>\n    </tr>\n    <tr>\n      <th>187331</th>\n      <td>421014</td>\n      <td>2012</td>\n      <td>9.533333</td>\n      <td>1301</td>\n      <td>Température de l'Eau</td>\n      <td>27</td>\n      <td>degré Celsius</td>\n    </tr>\n    <tr>\n      <th>187402</th>\n      <td>421014</td>\n      <td>2012</td>\n      <td>0.000000</td>\n      <td>1346</td>\n      <td>Titre alcalimétrique (T.A.)</td>\n      <td>28</td>\n      <td>degré français</td>\n    </tr>\n    <tr>\n      <th>187408</th>\n      <td>421014</td>\n      <td>2012</td>\n      <td>23.400000</td>\n      <td>1347</td>\n      <td>Titre alcalimétrique complet (T.A.C.)</td>\n      <td>28</td>\n      <td>degré français</td>\n    </tr>\n  </tbody>\n</table>\n<p>187442 rows × 7 columns</p>\n</div>"
     },
     "execution_count": 45,
     "metadata": {},
     "output_type": "execute_result"
    }
   ],
   "source": [
    "physicochimie_df.sort_values([\"stn_id\", \"date_year\", \"parameter_name\"])"
   ],
   "metadata": {
    "collapsed": false
   }
  },
  {
   "cell_type": "code",
   "execution_count": 44,
   "outputs": [
    {
     "data": {
      "text/plain": "             id  her  date_year  liste_ff_id  taxon_id  valeur_x  stn_id  \\\n0        398944   22       2007      3551258       906     120.0  398944   \n1        398944   22       2007      3551258       906     120.0  398944   \n2        398944   22       2007      3551258       906     120.0  398944   \n3        398944   22       2007      3551258       906     120.0  398944   \n4        398944   22       2007      3551258       906     120.0  398944   \n...         ...  ...        ...          ...       ...       ...     ...   \n2184295  421014    5       2012      3620253       364      80.0  421014   \n2184296  421014    5       2012      3620253       364      80.0  421014   \n2184297  421014    5       2012      3620253       364      80.0  421014   \n2184298  421014    5       2012      3620253       364      80.0  421014   \n2184299  421014    5       2012      3620253       364      80.0  421014   \n\n          valeur_y  parameter                 parameter_name  unite  \\\n0        10.825000       1301           Température de l'Eau     27   \n1         7.764167       1302    Potentiel en Hydrogène (pH)    264   \n2        14.250000       1305         Matières en suspension    162   \n3        10.671667       1311                Oxygène dissous    175   \n4        95.491667       1312  Taux de saturation en oxygène    243   \n...            ...        ...                            ...    ...   \n2184295   0.025000       1350                Phosphore total    162   \n2184296   1.300000       1367                      Potassium    162   \n2184297   6.320000       1372                      Magnésium    162   \n2184298  91.900000       1374                        Calcium    162   \n2184299   5.650000       1375                         Sodium    162   \n\n                              unite_name  \n0                          degré Celsius  \n1                               unité pH  \n2                  milligramme par litre  \n3        milligramme d'oxygène par litre  \n4                            pourcentage  \n...                                  ...  \n2184295            milligramme par litre  \n2184296            milligramme par litre  \n2184297            milligramme par litre  \n2184298            milligramme par litre  \n2184299            milligramme par litre  \n\n[2184300 rows x 12 columns]",
      "text/html": "<div>\n<style scoped>\n    .dataframe tbody tr th:only-of-type {\n        vertical-align: middle;\n    }\n\n    .dataframe tbody tr th {\n        vertical-align: top;\n    }\n\n    .dataframe thead th {\n        text-align: right;\n    }\n</style>\n<table border=\"1\" class=\"dataframe\">\n  <thead>\n    <tr style=\"text-align: right;\">\n      <th></th>\n      <th>id</th>\n      <th>her</th>\n      <th>date_year</th>\n      <th>liste_ff_id</th>\n      <th>taxon_id</th>\n      <th>valeur_x</th>\n      <th>stn_id</th>\n      <th>valeur_y</th>\n      <th>parameter</th>\n      <th>parameter_name</th>\n      <th>unite</th>\n      <th>unite_name</th>\n    </tr>\n  </thead>\n  <tbody>\n    <tr>\n      <th>0</th>\n      <td>398944</td>\n      <td>22</td>\n      <td>2007</td>\n      <td>3551258</td>\n      <td>906</td>\n      <td>120.0</td>\n      <td>398944</td>\n      <td>10.825000</td>\n      <td>1301</td>\n      <td>Température de l'Eau</td>\n      <td>27</td>\n      <td>degré Celsius</td>\n    </tr>\n    <tr>\n      <th>1</th>\n      <td>398944</td>\n      <td>22</td>\n      <td>2007</td>\n      <td>3551258</td>\n      <td>906</td>\n      <td>120.0</td>\n      <td>398944</td>\n      <td>7.764167</td>\n      <td>1302</td>\n      <td>Potentiel en Hydrogène (pH)</td>\n      <td>264</td>\n      <td>unité pH</td>\n    </tr>\n    <tr>\n      <th>2</th>\n      <td>398944</td>\n      <td>22</td>\n      <td>2007</td>\n      <td>3551258</td>\n      <td>906</td>\n      <td>120.0</td>\n      <td>398944</td>\n      <td>14.250000</td>\n      <td>1305</td>\n      <td>Matières en suspension</td>\n      <td>162</td>\n      <td>milligramme par litre</td>\n    </tr>\n    <tr>\n      <th>3</th>\n      <td>398944</td>\n      <td>22</td>\n      <td>2007</td>\n      <td>3551258</td>\n      <td>906</td>\n      <td>120.0</td>\n      <td>398944</td>\n      <td>10.671667</td>\n      <td>1311</td>\n      <td>Oxygène dissous</td>\n      <td>175</td>\n      <td>milligramme d'oxygène par litre</td>\n    </tr>\n    <tr>\n      <th>4</th>\n      <td>398944</td>\n      <td>22</td>\n      <td>2007</td>\n      <td>3551258</td>\n      <td>906</td>\n      <td>120.0</td>\n      <td>398944</td>\n      <td>95.491667</td>\n      <td>1312</td>\n      <td>Taux de saturation en oxygène</td>\n      <td>243</td>\n      <td>pourcentage</td>\n    </tr>\n    <tr>\n      <th>...</th>\n      <td>...</td>\n      <td>...</td>\n      <td>...</td>\n      <td>...</td>\n      <td>...</td>\n      <td>...</td>\n      <td>...</td>\n      <td>...</td>\n      <td>...</td>\n      <td>...</td>\n      <td>...</td>\n      <td>...</td>\n    </tr>\n    <tr>\n      <th>2184295</th>\n      <td>421014</td>\n      <td>5</td>\n      <td>2012</td>\n      <td>3620253</td>\n      <td>364</td>\n      <td>80.0</td>\n      <td>421014</td>\n      <td>0.025000</td>\n      <td>1350</td>\n      <td>Phosphore total</td>\n      <td>162</td>\n      <td>milligramme par litre</td>\n    </tr>\n    <tr>\n      <th>2184296</th>\n      <td>421014</td>\n      <td>5</td>\n      <td>2012</td>\n      <td>3620253</td>\n      <td>364</td>\n      <td>80.0</td>\n      <td>421014</td>\n      <td>1.300000</td>\n      <td>1367</td>\n      <td>Potassium</td>\n      <td>162</td>\n      <td>milligramme par litre</td>\n    </tr>\n    <tr>\n      <th>2184297</th>\n      <td>421014</td>\n      <td>5</td>\n      <td>2012</td>\n      <td>3620253</td>\n      <td>364</td>\n      <td>80.0</td>\n      <td>421014</td>\n      <td>6.320000</td>\n      <td>1372</td>\n      <td>Magnésium</td>\n      <td>162</td>\n      <td>milligramme par litre</td>\n    </tr>\n    <tr>\n      <th>2184298</th>\n      <td>421014</td>\n      <td>5</td>\n      <td>2012</td>\n      <td>3620253</td>\n      <td>364</td>\n      <td>80.0</td>\n      <td>421014</td>\n      <td>91.900000</td>\n      <td>1374</td>\n      <td>Calcium</td>\n      <td>162</td>\n      <td>milligramme par litre</td>\n    </tr>\n    <tr>\n      <th>2184299</th>\n      <td>421014</td>\n      <td>5</td>\n      <td>2012</td>\n      <td>3620253</td>\n      <td>364</td>\n      <td>80.0</td>\n      <td>421014</td>\n      <td>5.650000</td>\n      <td>1375</td>\n      <td>Sodium</td>\n      <td>162</td>\n      <td>milligramme par litre</td>\n    </tr>\n  </tbody>\n</table>\n<p>2184300 rows × 12 columns</p>\n</div>"
     },
     "execution_count": 44,
     "metadata": {},
     "output_type": "execute_result"
    }
   ],
   "source": [
    "physicochimie_to_merge = physicochimie_df.drop(columns=[\"date_year\", \"parameter_name\", \"unite_name\"])\n",
    "stn_taxon_pc = stn_taxon.merge(physicochimie_df, left_on=[\"id\", \"date_year\"], right_on=[\"stn_id\",\"date_year\"])\n",
    "stn_taxon_pc"
   ],
   "metadata": {
    "collapsed": false
   }
  }
 ],
 "metadata": {
  "kernelspec": {
   "display_name": "Python 3",
   "language": "python",
   "name": "python3"
  },
  "language_info": {
   "codemirror_mode": {
    "name": "ipython",
    "version": 2
   },
   "file_extension": ".py",
   "mimetype": "text/x-python",
   "name": "python",
   "nbconvert_exporter": "python",
   "pygments_lexer": "ipython2",
   "version": "2.7.6"
  }
 },
 "nbformat": 4,
 "nbformat_minor": 0
}
